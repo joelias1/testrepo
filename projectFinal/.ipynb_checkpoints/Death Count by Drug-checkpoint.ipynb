{
 "cells": [
  {
   "cell_type": "code",
   "execution_count": 1,
   "metadata": {},
   "outputs": [],
   "source": [
    "import pandas as pd\n",
    "from matplotlib import cm\n",
    "from matplotlib import pyplot as plt\n",
    "%matplotlib inline\n",
    "import numpy as np"
   ]
  },
  {
   "cell_type": "code",
   "execution_count": 2,
   "metadata": {},
   "outputs": [
    {
     "data": {
      "text/html": [
       "<div>\n",
       "<style scoped>\n",
       "    .dataframe tbody tr th:only-of-type {\n",
       "        vertical-align: middle;\n",
       "    }\n",
       "\n",
       "    .dataframe tbody tr th {\n",
       "        vertical-align: top;\n",
       "    }\n",
       "\n",
       "    .dataframe thead th {\n",
       "        text-align: right;\n",
       "    }\n",
       "</style>\n",
       "<table border=\"1\" class=\"dataframe\">\n",
       "  <thead>\n",
       "    <tr style=\"text-align: right;\">\n",
       "      <th></th>\n",
       "      <th>Unnamed: 0</th>\n",
       "      <th>ID</th>\n",
       "      <th>Date</th>\n",
       "      <th>DateType</th>\n",
       "      <th>Age</th>\n",
       "      <th>Sex</th>\n",
       "      <th>Race</th>\n",
       "      <th>ResidenceCity</th>\n",
       "      <th>ResidenceCounty</th>\n",
       "      <th>ResidenceState</th>\n",
       "      <th>...</th>\n",
       "      <th>Ethanol</th>\n",
       "      <th>Hydrocodone</th>\n",
       "      <th>Benzodiazepine</th>\n",
       "      <th>Methadone</th>\n",
       "      <th>Amphetamine</th>\n",
       "      <th>Tramadol</th>\n",
       "      <th>Morphine Not Heroin</th>\n",
       "      <th>Hydromorphone</th>\n",
       "      <th>Other</th>\n",
       "      <th>MannerofDeath</th>\n",
       "    </tr>\n",
       "  </thead>\n",
       "  <tbody>\n",
       "    <tr>\n",
       "      <th>0</th>\n",
       "      <td>1</td>\n",
       "      <td>13-0102</td>\n",
       "      <td>03/21/2013 12:00:00 AM</td>\n",
       "      <td>DateofDeath</td>\n",
       "      <td>48.0</td>\n",
       "      <td>Male</td>\n",
       "      <td>Black</td>\n",
       "      <td>NORWALK</td>\n",
       "      <td>NaN</td>\n",
       "      <td>NaN</td>\n",
       "      <td>...</td>\n",
       "      <td>NaN</td>\n",
       "      <td>NaN</td>\n",
       "      <td>NaN</td>\n",
       "      <td>NaN</td>\n",
       "      <td>NaN</td>\n",
       "      <td>NaN</td>\n",
       "      <td>NaN</td>\n",
       "      <td>NaN</td>\n",
       "      <td>NaN</td>\n",
       "      <td>Accident</td>\n",
       "    </tr>\n",
       "    <tr>\n",
       "      <th>1</th>\n",
       "      <td>2</td>\n",
       "      <td>16-0165</td>\n",
       "      <td>03/13/2016 12:00:00 AM</td>\n",
       "      <td>DateofDeath</td>\n",
       "      <td>30.0</td>\n",
       "      <td>Female</td>\n",
       "      <td>White</td>\n",
       "      <td>SANDY HOOK</td>\n",
       "      <td>FAIRFIELD</td>\n",
       "      <td>CT</td>\n",
       "      <td>...</td>\n",
       "      <td>NaN</td>\n",
       "      <td>NaN</td>\n",
       "      <td>NaN</td>\n",
       "      <td>NaN</td>\n",
       "      <td>NaN</td>\n",
       "      <td>NaN</td>\n",
       "      <td>NaN</td>\n",
       "      <td>NaN</td>\n",
       "      <td>NaN</td>\n",
       "      <td>Accident</td>\n",
       "    </tr>\n",
       "    <tr>\n",
       "      <th>2</th>\n",
       "      <td>3</td>\n",
       "      <td>16-0208</td>\n",
       "      <td>03/31/2016 12:00:00 AM</td>\n",
       "      <td>DateofDeath</td>\n",
       "      <td>23.0</td>\n",
       "      <td>Male</td>\n",
       "      <td>White</td>\n",
       "      <td>RYE</td>\n",
       "      <td>WESTCHESTER</td>\n",
       "      <td>NY</td>\n",
       "      <td>...</td>\n",
       "      <td>NaN</td>\n",
       "      <td>NaN</td>\n",
       "      <td>NaN</td>\n",
       "      <td>NaN</td>\n",
       "      <td>NaN</td>\n",
       "      <td>NaN</td>\n",
       "      <td>NaN</td>\n",
       "      <td>NaN</td>\n",
       "      <td>NaN</td>\n",
       "      <td>Accident</td>\n",
       "    </tr>\n",
       "    <tr>\n",
       "      <th>3</th>\n",
       "      <td>4</td>\n",
       "      <td>13-0052</td>\n",
       "      <td>02/13/2013 12:00:00 AM</td>\n",
       "      <td>DateofDeath</td>\n",
       "      <td>22.0</td>\n",
       "      <td>Male</td>\n",
       "      <td>Asian, Other</td>\n",
       "      <td>FLUSHING</td>\n",
       "      <td>QUEENS</td>\n",
       "      <td>NaN</td>\n",
       "      <td>...</td>\n",
       "      <td>NaN</td>\n",
       "      <td>NaN</td>\n",
       "      <td>NaN</td>\n",
       "      <td>NaN</td>\n",
       "      <td>NaN</td>\n",
       "      <td>NaN</td>\n",
       "      <td>NaN</td>\n",
       "      <td>NaN</td>\n",
       "      <td>NaN</td>\n",
       "      <td>Accident</td>\n",
       "    </tr>\n",
       "    <tr>\n",
       "      <th>4</th>\n",
       "      <td>5</td>\n",
       "      <td>14-0277</td>\n",
       "      <td>06/29/2014 12:00:00 AM</td>\n",
       "      <td>DateofDeath</td>\n",
       "      <td>23.0</td>\n",
       "      <td>Male</td>\n",
       "      <td>White</td>\n",
       "      <td>BRISTOL</td>\n",
       "      <td>NaN</td>\n",
       "      <td>NaN</td>\n",
       "      <td>...</td>\n",
       "      <td>NaN</td>\n",
       "      <td>NaN</td>\n",
       "      <td>NaN</td>\n",
       "      <td>NaN</td>\n",
       "      <td>NaN</td>\n",
       "      <td>NaN</td>\n",
       "      <td>NaN</td>\n",
       "      <td>NaN</td>\n",
       "      <td>NaN</td>\n",
       "      <td>Accident</td>\n",
       "    </tr>\n",
       "  </tbody>\n",
       "</table>\n",
       "<p>5 rows × 36 columns</p>\n",
       "</div>"
      ],
      "text/plain": [
       "   Unnamed: 0       ID                    Date     DateType   Age     Sex  \\\n",
       "0           1  13-0102  03/21/2013 12:00:00 AM  DateofDeath  48.0    Male   \n",
       "1           2  16-0165  03/13/2016 12:00:00 AM  DateofDeath  30.0  Female   \n",
       "2           3  16-0208  03/31/2016 12:00:00 AM  DateofDeath  23.0    Male   \n",
       "3           4  13-0052  02/13/2013 12:00:00 AM  DateofDeath  22.0    Male   \n",
       "4           5  14-0277  06/29/2014 12:00:00 AM  DateofDeath  23.0    Male   \n",
       "\n",
       "           Race ResidenceCity ResidenceCounty ResidenceState  ... Ethanol  \\\n",
       "0         Black       NORWALK             NaN            NaN  ...     NaN   \n",
       "1         White    SANDY HOOK       FAIRFIELD             CT  ...     NaN   \n",
       "2         White           RYE     WESTCHESTER             NY  ...     NaN   \n",
       "3  Asian, Other      FLUSHING          QUEENS            NaN  ...     NaN   \n",
       "4         White       BRISTOL             NaN            NaN  ...     NaN   \n",
       "\n",
       "  Hydrocodone Benzodiazepine Methadone Amphetamine Tramadol  \\\n",
       "0         NaN            NaN       NaN         NaN      NaN   \n",
       "1         NaN            NaN       NaN         NaN      NaN   \n",
       "2         NaN            NaN       NaN         NaN      NaN   \n",
       "3         NaN            NaN       NaN         NaN      NaN   \n",
       "4         NaN            NaN       NaN         NaN      NaN   \n",
       "\n",
       "  Morphine Not Heroin Hydromorphone Other MannerofDeath  \n",
       "0                 NaN           NaN   NaN      Accident  \n",
       "1                 NaN           NaN   NaN      Accident  \n",
       "2                 NaN           NaN   NaN      Accident  \n",
       "3                 NaN           NaN   NaN      Accident  \n",
       "4                 NaN           NaN   NaN      Accident  \n",
       "\n",
       "[5 rows x 36 columns]"
      ]
     },
     "execution_count": 2,
     "metadata": {},
     "output_type": "execute_result"
    }
   ],
   "source": [
    "# Create dataframe from cleaned data\n",
    "clean_data = pd.read_csv(\"Resources/drug_death_data_clean.csv\")\n",
    "clean_data.head()"
   ]
  },
  {
   "cell_type": "code",
   "execution_count": 3,
   "metadata": {},
   "outputs": [
    {
     "data": {
      "text/plain": [
       "Index(['Unnamed: 0', 'ID', 'Date', 'DateType', 'Age', 'Sex', 'Race',\n",
       "       'ResidenceCity', 'ResidenceCounty', 'ResidenceState', 'DeathCity',\n",
       "       'DeathCounty', 'Location', 'LocationifOther', 'DescriptionofInjury',\n",
       "       'InjuryPlace', 'InjuryCity', 'InjuryCounty', 'InjuryState', 'COD',\n",
       "       'OtherSignifican', 'Heroin', 'Cocaine', 'Fentanyl', 'Oxycodone',\n",
       "       'Oxymorphone', 'Ethanol', 'Hydrocodone', 'Benzodiazepine', 'Methadone',\n",
       "       'Amphetamine', 'Tramadol', 'Morphine Not Heroin', 'Hydromorphone',\n",
       "       'Other', 'MannerofDeath'],\n",
       "      dtype='object')"
      ]
     },
     "execution_count": 3,
     "metadata": {},
     "output_type": "execute_result"
    }
   ],
   "source": [
    "# Check columns for drugs\n",
    "clean_data.columns"
   ]
  },
  {
   "cell_type": "code",
   "execution_count": 4,
   "metadata": {
    "scrolled": true
   },
   "outputs": [
    {
     "data": {
      "text/html": [
       "<div>\n",
       "<style scoped>\n",
       "    .dataframe tbody tr th:only-of-type {\n",
       "        vertical-align: middle;\n",
       "    }\n",
       "\n",
       "    .dataframe tbody tr th {\n",
       "        vertical-align: top;\n",
       "    }\n",
       "\n",
       "    .dataframe thead th {\n",
       "        text-align: right;\n",
       "    }\n",
       "</style>\n",
       "<table border=\"1\" class=\"dataframe\">\n",
       "  <thead>\n",
       "    <tr style=\"text-align: right;\">\n",
       "      <th></th>\n",
       "      <th>Heroin</th>\n",
       "      <th>Cocaine</th>\n",
       "      <th>Fentanyl</th>\n",
       "      <th>Oxycodone</th>\n",
       "      <th>Oxymorphone</th>\n",
       "      <th>Ethanol</th>\n",
       "      <th>Hydrocodone</th>\n",
       "      <th>Benzodiazepine</th>\n",
       "      <th>Methadone</th>\n",
       "      <th>Amphetamine</th>\n",
       "      <th>Tramadol</th>\n",
       "      <th>Morphine Not Heroin</th>\n",
       "      <th>Hydromorphone</th>\n",
       "      <th>Other</th>\n",
       "    </tr>\n",
       "  </thead>\n",
       "  <tbody>\n",
       "    <tr>\n",
       "      <th>0</th>\n",
       "      <td>NaN</td>\n",
       "      <td>Y</td>\n",
       "      <td>NaN</td>\n",
       "      <td>NaN</td>\n",
       "      <td>NaN</td>\n",
       "      <td>NaN</td>\n",
       "      <td>NaN</td>\n",
       "      <td>NaN</td>\n",
       "      <td>NaN</td>\n",
       "      <td>NaN</td>\n",
       "      <td>NaN</td>\n",
       "      <td>NaN</td>\n",
       "      <td>NaN</td>\n",
       "      <td>NaN</td>\n",
       "    </tr>\n",
       "    <tr>\n",
       "      <th>1</th>\n",
       "      <td>Y</td>\n",
       "      <td>Y</td>\n",
       "      <td>NaN</td>\n",
       "      <td>NaN</td>\n",
       "      <td>NaN</td>\n",
       "      <td>NaN</td>\n",
       "      <td>NaN</td>\n",
       "      <td>NaN</td>\n",
       "      <td>NaN</td>\n",
       "      <td>NaN</td>\n",
       "      <td>NaN</td>\n",
       "      <td>NaN</td>\n",
       "      <td>NaN</td>\n",
       "      <td>NaN</td>\n",
       "    </tr>\n",
       "    <tr>\n",
       "      <th>2</th>\n",
       "      <td>Y</td>\n",
       "      <td>NaN</td>\n",
       "      <td>Y</td>\n",
       "      <td>NaN</td>\n",
       "      <td>NaN</td>\n",
       "      <td>NaN</td>\n",
       "      <td>NaN</td>\n",
       "      <td>NaN</td>\n",
       "      <td>NaN</td>\n",
       "      <td>NaN</td>\n",
       "      <td>NaN</td>\n",
       "      <td>NaN</td>\n",
       "      <td>NaN</td>\n",
       "      <td>NaN</td>\n",
       "    </tr>\n",
       "    <tr>\n",
       "      <th>3</th>\n",
       "      <td>NaN</td>\n",
       "      <td>NaN</td>\n",
       "      <td>Y</td>\n",
       "      <td>NaN</td>\n",
       "      <td>NaN</td>\n",
       "      <td>NaN</td>\n",
       "      <td>NaN</td>\n",
       "      <td>NaN</td>\n",
       "      <td>NaN</td>\n",
       "      <td>NaN</td>\n",
       "      <td>NaN</td>\n",
       "      <td>NaN</td>\n",
       "      <td>NaN</td>\n",
       "      <td>NaN</td>\n",
       "    </tr>\n",
       "    <tr>\n",
       "      <th>4</th>\n",
       "      <td>Y</td>\n",
       "      <td>NaN</td>\n",
       "      <td>NaN</td>\n",
       "      <td>NaN</td>\n",
       "      <td>NaN</td>\n",
       "      <td>NaN</td>\n",
       "      <td>NaN</td>\n",
       "      <td>NaN</td>\n",
       "      <td>NaN</td>\n",
       "      <td>NaN</td>\n",
       "      <td>NaN</td>\n",
       "      <td>NaN</td>\n",
       "      <td>NaN</td>\n",
       "      <td>NaN</td>\n",
       "    </tr>\n",
       "  </tbody>\n",
       "</table>\n",
       "</div>"
      ],
      "text/plain": [
       "  Heroin Cocaine Fentanyl Oxycodone Oxymorphone Ethanol Hydrocodone  \\\n",
       "0    NaN       Y      NaN       NaN         NaN     NaN         NaN   \n",
       "1      Y       Y      NaN       NaN         NaN     NaN         NaN   \n",
       "2      Y     NaN        Y       NaN         NaN     NaN         NaN   \n",
       "3    NaN     NaN        Y       NaN         NaN     NaN         NaN   \n",
       "4      Y     NaN      NaN       NaN         NaN     NaN         NaN   \n",
       "\n",
       "  Benzodiazepine Methadone Amphetamine Tramadol Morphine Not Heroin  \\\n",
       "0            NaN       NaN         NaN      NaN                 NaN   \n",
       "1            NaN       NaN         NaN      NaN                 NaN   \n",
       "2            NaN       NaN         NaN      NaN                 NaN   \n",
       "3            NaN       NaN         NaN      NaN                 NaN   \n",
       "4            NaN       NaN         NaN      NaN                 NaN   \n",
       "\n",
       "  Hydromorphone Other  \n",
       "0           NaN   NaN  \n",
       "1           NaN   NaN  \n",
       "2           NaN   NaN  \n",
       "3           NaN   NaN  \n",
       "4           NaN   NaN  "
      ]
     },
     "execution_count": 4,
     "metadata": {},
     "output_type": "execute_result"
    }
   ],
   "source": [
    "# Create subset df of just drug columns\n",
    "drugs = clean_data.loc[:,[\"Heroin\", 'Cocaine', 'Fentanyl', 'Oxycodone',\n",
    "       'Oxymorphone', 'Ethanol', 'Hydrocodone', 'Benzodiazepine', 'Methadone',\n",
    "       'Amphetamine', 'Tramadol', 'Morphine Not Heroin', 'Hydromorphone','Other']]\n",
    "drugs.head()"
   ]
  },
  {
   "cell_type": "code",
   "execution_count": 5,
   "metadata": {
    "scrolled": true
   },
   "outputs": [
    {
     "data": {
      "text/plain": [
       "<matplotlib.axes._subplots.AxesSubplot at 0x1202b1be0>"
      ]
     },
     "execution_count": 5,
     "metadata": {},
     "output_type": "execute_result"
    },
    {
     "data": {
      "image/png": "[encoded data removed]",
      "text/plain": [
       "<Figure size 648x432 with 1 Axes>"
      ]
     },
     "metadata": {
      "needs_background": "light"
     },
     "output_type": "display_data"
    }
   ],
   "source": [
    "# Count incidences of drugs, and plot\n",
    "drugs_count = drugs.count()\n",
    "drugs_count = drugs_count.sort_values(ascending=False)\n",
    "drug_count_bar = drugs_count.plot(kind='bar',figsize=(9,6))\n",
    "drug_count_bar.set_title(\"Death Count by Drug\")\n",
    "drug_count_bar.set_xlabel(\"Drug\")\n",
    "drug_count_bar.set_ylabel(\"Deaths\")\n",
    "drug_count_bar.set_xticklabels(drugs_count.index,rotation=80)\n",
    "drug_count_bar.grid(axis=\"y\")\n",
    "# Export Figure\n",
    "drug_count_bar.figure.tight_layout()\n",
    "drug_count_bar.figure.savefig('Charts/DrugCountBar.png')\n",
    "drug_count_bar"
   ]
  },
  {
   "cell_type": "code",
   "execution_count": 6,
   "metadata": {},
   "outputs": [],
   "source": [
    "# Pie Chart\n",
    "# Combine drugs with <100 deaths into Other\n",
    "# Check counts for drug deaths\n",
    "#drugs.count()\n",
    "# Morphine not Heroin : 41 and Hydromorphone + 23"
   ]
  },
  {
   "cell_type": "code",
   "execution_count": 7,
   "metadata": {
    "scrolled": true
   },
   "outputs": [
    {
     "data": {
      "text/plain": [
       "0  Heroin            2437\n",
       "   Fentanyl          2138\n",
       "   Cocaine           1433\n",
       "   Benzodiazepine    1305\n",
       "   Ethanol           1189\n",
       "   Oxycodone          597\n",
       "   Other              521\n",
       "   Methadone          456\n",
       "   Amphetamine        156\n",
       "   Tramadol           127\n",
       "   Hydrocodone        115\n",
       "   Oxymorphone        105\n",
       "dtype: int64"
      ]
     },
     "execution_count": 7,
     "metadata": {},
     "output_type": "execute_result"
    }
   ],
   "source": [
    "pie_drugs = pd.DataFrame(drugs.count())\n",
    "pie_drugs = pie_drugs.drop(['Morphine Not Heroin','Hydromorphone'])\n",
    "pie_drugs.loc['Other'] += 64\n",
    "pie_drugs = pie_drugs.unstack(level=0)\n",
    "pie_drugs = pie_drugs.sort_values(ascending=False)\n",
    "pie_drugs"
   ]
  },
  {
   "cell_type": "code",
   "execution_count": 8,
   "metadata": {},
   "outputs": [
    {
     "data": {
      "text/plain": [
       "<matplotlib.axes._subplots.AxesSubplot at 0x10f311588>"
      ]
     },
     "execution_count": 8,
     "metadata": {},
     "output_type": "execute_result"
    },
    {
     "data": {
      "image/png": "[encoded data removed]",
      "text/plain": [
       "<Figure size 720x720 with 1 Axes>"
      ]
     },
     "metadata": {},
     "output_type": "display_data"
    }
   ],
   "source": [
    "explode = [0,0,0.1,0.1,0.1,0,0,0,0,0,0,0]\n",
    "cs = ['salmon','gold','lightblue','limegreen','violet','orange','orangered','moccasin','yellow','darkorange','tomato','sandybrown']\n",
    "drug_count_pie = pie_drugs[0].plot(kind='pie', autopct='%1.1f%%',explode=explode,colors=cs,figsize=(10,10))\n",
    "drug_count_pie.set_title(\"Percentage of Drug Presence\")\n",
    "drug_count_pie.set_ylabel('')\n",
    "drug_count_pie.text(-0.45,-1.3,\"*Exploded tiles are non-opioids/non-opiates.\")\n",
    "# Export Figure\n",
    "drug_count_pie.figure.tight_layout()\n",
    "drug_count_pie.figure.savefig('Charts/DrugPresencePie.png')\n",
    "drug_count_pie"
   ]
  },
  {
   "cell_type": "code",
   "execution_count": 9,
   "metadata": {},
   "outputs": [],
   "source": [
    "# Drug Groupings\n",
    "drugs[\"# of Drugs\"] = ''\n",
    "for index,row in drugs.iterrows():\n",
    "    drug_tally = 0\n",
    "    for i in range(len(drugs.columns)):\n",
    "        if row[i] == \"Y\":\n",
    "            drug_tally += 1\n",
    "    drugs.loc[index,\"# of Drugs\"] = drug_tally\n",
    "    if drug_tally == 0:\n",
    "        print(drugs.loc[index,:])"
   ]
  },
  {
   "cell_type": "code",
   "execution_count": 10,
   "metadata": {},
   "outputs": [
    {
     "data": {
      "text/plain": [
       "1    1434\n",
       "2    1899\n",
       "3    1114\n",
       "4     384\n",
       "5      75\n",
       "6      12\n",
       "7       2\n",
       "Name: # of Drugs, dtype: int64"
      ]
     },
     "execution_count": 10,
     "metadata": {},
     "output_type": "execute_result"
    }
   ],
   "source": [
    "num_drugs = drugs[\"# of Drugs\"].value_counts()\n",
    "num_drugs = num_drugs.sort_index()\n",
    "num_drugs"
   ]
  },
  {
   "cell_type": "code",
   "execution_count": 11,
   "metadata": {},
   "outputs": [
    {
     "data": {
      "text/plain": [
       "<matplotlib.axes._subplots.AxesSubplot at 0x12122f128>"
      ]
     },
     "execution_count": 11,
     "metadata": {},
     "output_type": "execute_result"
    },
    {
     "data": {
      "image/png": "[encoded data removed]",
      "text/plain": [
       "<Figure size 648x432 with 1 Axes>"
      ]
     },
     "metadata": {
      "needs_background": "light"
     },
     "output_type": "display_data"
    }
   ],
   "source": [
    "# Number of Drugs Bar\n",
    "num_bar = num_drugs.plot(kind='bar',figsize=(9,6))\n",
    "num_bar.set_title(\"Number of Drugs found in System\")\n",
    "num_bar.set_xlabel(\"Number of Drugs\")\n",
    "num_bar.set_ylabel(\"Number of Occurrences\")\n",
    "num_bar.set_xticklabels(num_drugs.index,rotation=0)\n",
    "num_bar.grid(axis=\"y\")\n",
    "num_bar.text(num_drugs.index[5]-0.15,50,'N=2')\n",
    "# Export Figure\n",
    "num_bar.figure.tight_layout()\n",
    "num_bar.figure.savefig('Charts/NumDrugsBar.png')\n",
    "num_bar"
   ]
  },
  {
   "cell_type": "code",
   "execution_count": null,
   "metadata": {},
   "outputs": [],
   "source": []
  }
 ],
 "metadata": {
  "kernelspec": {
   "display_name": "Python 3",
   "language": "python",
   "name": "python3"
  },
  "language_info": {
   "codemirror_mode": {
    "name": "ipython",
    "version": 3
   },
   "file_extension": ".py",
   "mimetype": "text/x-python",
   "name": "python",
   "nbconvert_exporter": "python",
   "pygments_lexer": "ipython3",
   "version": "3.7.3"
  }
 },
 "nbformat": 4,
 "nbformat_minor": 2
}
